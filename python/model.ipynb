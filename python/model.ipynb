{
 "cells": [
  {
   "cell_type": "code",
   "execution_count": 1,
   "metadata": {},
   "outputs": [],
   "source": [
    "import gc\n",
    "import pickle\n",
    "import pandas as pd\n",
    "import numpy as np\n",
    "import lightgbm as lgb\n",
    "import xgboost as xgb\n",
    "from sklearn.model_selection import StratifiedKFold\n",
    "from sklearn.metrics import mean_squared_error\n",
    "from matplotlib import pyplot as plt\n",
    "%matplotlib inline"
   ]
  },
  {
   "cell_type": "code",
   "execution_count": 2,
   "metadata": {},
   "outputs": [
    {
     "name": "stdout",
     "output_type": "stream",
     "text": [
      "CPU times: user 1min 10s, sys: 5.11 s, total: 1min 15s\n",
      "Wall time: 1min 13s\n"
     ]
    }
   ],
   "source": [
    "%%time\n",
    "train = pd.read_csv('../data/de_dup_encoded_train.csv', dtype={'fullVisitorId': 'str'})\n",
    "test = pd.read_csv('../data/de_dup_encoded_test.csv', dtype={'fullVisitorId': 'str'})\n",
    "sub = pd.read_csv('../data/sample_submission_v2.csv', dtype={'fullVisitorId': 'str'})"
   ]
  },
  {
   "cell_type": "code",
   "execution_count": 8,
   "metadata": {},
   "outputs": [],
   "source": [
    "features = [col for col in train.columns if 'fe' in col]"
   ]
  },
  {
   "cell_type": "code",
   "execution_count": 9,
   "metadata": {},
   "outputs": [],
   "source": [
    "skf = list(StratifiedKFold(n_splits=5, random_state=36).split(train[features], train['target'] == 0))"
   ]
  },
  {
   "cell_type": "code",
   "execution_count": 96,
   "metadata": {
    "scrolled": false
   },
   "outputs": [
    {
     "name": "stdout",
     "output_type": "stream",
     "text": [
      "fitting on the 1th split\n",
      "22 out of 65928 is non zero\n",
      "Training until validation scores don't improve for 50 rounds.\n",
      "Early stopping, best iteration is:\n",
      "[229]\tvalid_0's l2: 0.109311\tvalid_0's rmse: 0.330623\n",
      "naive score : 0.3320560412415828 -- model score: 0.33062262354889144\n",
      "fitting on the 2th split\n",
      "21 out of 65927 is non zero\n",
      "Training until validation scores don't improve for 50 rounds.\n",
      "Early stopping, best iteration is:\n",
      "[979]\tvalid_0's l2: 0.0956519\tvalid_0's rmse: 0.309276\n",
      "naive score : 0.3266241522717156 -- model score: 0.30927635924322416\n",
      "fitting on the 3th split\n",
      "21 out of 65927 is non zero\n",
      "Training until validation scores don't improve for 50 rounds.\n",
      "Early stopping, best iteration is:\n",
      "[429]\tvalid_0's l2: 0.0973084\tvalid_0's rmse: 0.311943\n",
      "naive score : 0.3157313689377627 -- model score: 0.3119428864372478\n",
      "fitting on the 4th split\n",
      "21 out of 65927 is non zero\n",
      "Training until validation scores don't improve for 50 rounds.\n",
      "Early stopping, best iteration is:\n",
      "[415]\tvalid_0's l2: 0.0994118\tvalid_0's rmse: 0.315296\n",
      "naive score : 0.32071929120976317 -- model score: 0.3152964359186607\n",
      "fitting on the 5th split\n",
      "21 out of 65927 is non zero\n",
      "Training until validation scores don't improve for 50 rounds.\n",
      "Early stopping, best iteration is:\n",
      "[99]\tvalid_0's l2: 0.104122\tvalid_0's rmse: 0.32268\n",
      "naive score : 0.3231174025051791 -- model score: 0.3226801321109803\n",
      "DONE! 5 folds\n",
      "----- 0.31796368745180087 0.007763085215746879\n",
      "----- naive score : 0.32369635506448663 -- model score: 0.31805848008613324\n"
     ]
    }
   ],
   "source": [
    "models = []\n",
    "train_meta = np.zeros(train.shape[0])\n",
    "test_meta = np.zeros(test.shape[0])\n",
    "scores = []\n",
    "for idx, (train_idx, valid_idx) in enumerate(skf):\n",
    "    X_train = train[features].iloc[train_idx,:]\n",
    "    y_train = train['target'][train_idx]\n",
    "    X_valid = train[features].iloc[valid_idx,:]\n",
    "    y_valid = train['target'][valid_idx]\n",
    "\n",
    "    print('fitting on the {}th split'.format(idx + 1))\n",
    "    print('{} out of {} is non zero'.format((y_valid != 0).sum(), y_valid.shape[0]))\n",
    "    reg = lgb.LGBMRegressor(\n",
    "        num_leaves=7,\n",
    "        learning_rate=0.01,\n",
    "        n_estimators=65535,\n",
    "        colsample_bytree=0.1,\n",
    "        random_state=1,\n",
    "        min_data_in_leaf=5,\n",
    "        reg_alpha=0,\n",
    "        reg_lambda=0.1,\n",
    "        n_jobs=4\n",
    "    )\n",
    "    reg.fit(\n",
    "        X_train, np.log1p(y_train),\n",
    "        eval_set=[(X_valid, np.log1p(y_valid))],\n",
    "        early_stopping_rounds=50,\n",
    "        verbose=-1,\n",
    "        eval_metric='rmse'\n",
    "    )\n",
    "\n",
    "#         lgb.plot_importance(reg, max_num_features=10)\n",
    "#         plt.show()\n",
    "#         plt.close()\n",
    "\n",
    "    models.append(reg)\n",
    "    valid_pred = reg.predict(X_valid, num_iteration=reg.best_iteration_)\n",
    "    train_meta[valid_idx] = valid_pred\n",
    "    model_score = np.sqrt(mean_squared_error(valid_pred, np.log1p(y_valid)))\n",
    "    naive_score = np.sqrt(mean_squared_error(np.zeros_like(y_valid), np.log1p(y_valid)))\n",
    "    print('naive score : {} -- model score: {}'.format(naive_score, model_score))\n",
    "    scores.append(model_score)\n",
    "    test_meta += reg.predict(test[features], num_iteration=reg.best_iteration_) / len(skf)\n",
    "    del X_train, y_train, X_valid, y_valid\n",
    "    gc.collect()\n",
    "\n",
    "\n",
    "print('DONE! {} folds'.format(len(skf)))\n",
    "print('-----', np.mean(scores), np.std(scores))\n",
    "model_score = np.sqrt(mean_squared_error(train_meta, np.log1p(train['target'])))\n",
    "naive_score = np.sqrt(mean_squared_error(np.zeros_like(train['target']), np.log1p(train['target'])))\n",
    "print('----- naive score : {} -- model score: {}'.format(naive_score, model_score))"
   ]
  },
  {
   "cell_type": "code",
   "execution_count": 99,
   "metadata": {},
   "outputs": [
    {
     "data": {
      "text/plain": [
       "<matplotlib.axes._subplots.AxesSubplot at 0x7fde3f61acf8>"
      ]
     },
     "execution_count": 99,
     "metadata": {},
     "output_type": "execute_result"
    },
    {
     "data": {
      "image/png": "[encoded data removed]",
      "text/plain": [
       "<Figure size 432x288 with 1 Axes>"
      ]
     },
     "metadata": {},
     "output_type": "display_data"
    }
   ],
   "source": [
    "np.log1p(train['target'])[np.log1p(train['target']) > 0].hist()"
   ]
  },
  {
   "cell_type": "code",
   "execution_count": 98,
   "metadata": {},
   "outputs": [],
   "source": [
    "pickle.dump([models, train_meta, test_meta], open('../data/lgb_model_dump.pkl', 'wb'))"
   ]
  },
  {
   "cell_type": "code",
   "execution_count": 153,
   "metadata": {},
   "outputs": [],
   "source": [
    "lgb_models, lgb_train_meta, lgb_test_meta = pickle.load(open('../data/lgb_model_dump.pkl', 'rb'))"
   ]
  },
  {
   "cell_type": "code",
   "execution_count": 157,
   "metadata": {},
   "outputs": [
    {
     "name": "stdout",
     "output_type": "stream",
     "text": [
      "0.3180504552514804\n"
     ]
    }
   ],
   "source": [
    "lgb_pred = np.clip(lgb_train_meta, 0, lgb_train_meta.max())\n",
    "print(np.sqrt(mean_squared_error(lgb_pred, np.log1p(train['target']))))"
   ]
  },
  {
   "cell_type": "code",
   "execution_count": 158,
   "metadata": {},
   "outputs": [],
   "source": [
    "test_pred = np.clip(lgb_test_meta, 0, lgb_test_meta.max())\n",
    "sub.PredictedLogRevenue = test_pred"
   ]
  },
  {
   "cell_type": "code",
   "execution_count": 66,
   "metadata": {},
   "outputs": [
    {
     "data": {
      "text/html": [
       "<div>\n",
       "<style scoped>\n",
       "    .dataframe tbody tr th:only-of-type {\n",
       "        vertical-align: middle;\n",
       "    }\n",
       "\n",
       "    .dataframe tbody tr th {\n",
       "        vertical-align: top;\n",
       "    }\n",
       "\n",
       "    .dataframe thead th {\n",
       "        text-align: right;\n",
       "    }\n",
       "</style>\n",
       "<table border=\"1\" class=\"dataframe\">\n",
       "  <thead>\n",
       "    <tr style=\"text-align: right;\">\n",
       "      <th></th>\n",
       "      <th>fullVisitorId</th>\n",
       "      <th>PredictedLogRevenue</th>\n",
       "    </tr>\n",
       "  </thead>\n",
       "  <tbody>\n",
       "    <tr>\n",
       "      <th>0</th>\n",
       "      <td>0000018966949534117</td>\n",
       "      <td>0.003190</td>\n",
       "    </tr>\n",
       "    <tr>\n",
       "      <th>1</th>\n",
       "      <td>0000039738481224681</td>\n",
       "      <td>0.003190</td>\n",
       "    </tr>\n",
       "    <tr>\n",
       "      <th>2</th>\n",
       "      <td>0000073585230191399</td>\n",
       "      <td>0.003190</td>\n",
       "    </tr>\n",
       "    <tr>\n",
       "      <th>3</th>\n",
       "      <td>0000087588448856385</td>\n",
       "      <td>0.003176</td>\n",
       "    </tr>\n",
       "    <tr>\n",
       "      <th>4</th>\n",
       "      <td>0000149787903119437</td>\n",
       "      <td>0.003176</td>\n",
       "    </tr>\n",
       "  </tbody>\n",
       "</table>\n",
       "</div>"
      ],
      "text/plain": [
       "         fullVisitorId  PredictedLogRevenue\n",
       "0  0000018966949534117             0.003190\n",
       "1  0000039738481224681             0.003190\n",
       "2  0000073585230191399             0.003190\n",
       "3  0000087588448856385             0.003176\n",
       "4  0000149787903119437             0.003176"
      ]
     },
     "execution_count": 66,
     "metadata": {},
     "output_type": "execute_result"
    }
   ],
   "source": [
    "sub.head()"
   ]
  },
  {
   "cell_type": "code",
   "execution_count": 69,
   "metadata": {},
   "outputs": [
    {
     "data": {
      "text/plain": [
       "71"
      ]
     },
     "execution_count": 69,
     "metadata": {},
     "output_type": "execute_result"
    }
   ],
   "source": [
    "sum(sub.PredictedLogRevenue > 1)"
   ]
  },
  {
   "cell_type": "code",
   "execution_count": 70,
   "metadata": {},
   "outputs": [],
   "source": [
    "sub.to_csv('lgb_sub.csv', index=False)"
   ]
  },
  {
   "cell_type": "code",
   "execution_count": 95,
   "metadata": {
    "scrolled": false
   },
   "outputs": [
    {
     "name": "stdout",
     "output_type": "stream",
     "text": [
      "fitting on the 1th split\n",
      "22 out of 65928 is non zero\n",
      "[0]\tvalidation_0-rmse:0.58288\n",
      "Will train until validation_0-rmse hasn't improved in 50 rounds.\n",
      "[50]\tvalidation_0-rmse:0.346634\n",
      "[100]\tvalidation_0-rmse:0.331456\n",
      "[150]\tvalidation_0-rmse:0.331203\n",
      "Stopping. Best iteration:\n",
      "[126]\tvalidation_0-rmse:0.331019\n",
      "\n"
     ]
    },
    {
     "data": {
      "image/png": "[encoded data removed]",
      "text/plain": [
       "<Figure size 432x288 with 1 Axes>"
      ]
     },
     "metadata": {},
     "output_type": "display_data"
    },
    {
     "name": "stdout",
     "output_type": "stream",
     "text": [
      "naive score : 0.3320560412415828 -- model score: 0.33102799219519885\n",
      "fitting on the 2th split\n",
      "21 out of 65927 is non zero\n",
      "[0]\tvalidation_0-rmse:0.579979\n",
      "Will train until validation_0-rmse hasn't improved in 50 rounds.\n",
      "[50]\tvalidation_0-rmse:0.33677\n",
      "[100]\tvalidation_0-rmse:0.318648\n",
      "[150]\tvalidation_0-rmse:0.316662\n",
      "Stopping. Best iteration:\n",
      "[145]\tvalidation_0-rmse:0.316555\n",
      "\n"
     ]
    },
    {
     "data": {
      "image/png": "[encoded data removed]",
      "text/plain": [
       "<Figure size 432x288 with 1 Axes>"
      ]
     },
     "metadata": {},
     "output_type": "display_data"
    },
    {
     "name": "stdout",
     "output_type": "stream",
     "text": [
      "naive score : 0.3266241522717156 -- model score: 0.3165860536032598\n",
      "fitting on the 3th split\n",
      "21 out of 65927 is non zero\n",
      "[0]\tvalidation_0-rmse:0.574111\n",
      "Will train until validation_0-rmse hasn't improved in 50 rounds.\n",
      "[50]\tvalidation_0-rmse:0.330123\n",
      "[100]\tvalidation_0-rmse:0.313913\n",
      "[150]\tvalidation_0-rmse:0.313327\n",
      "Stopping. Best iteration:\n",
      "[129]\tvalidation_0-rmse:0.313127\n",
      "\n"
     ]
    },
    {
     "data": {
      "image/png": "[encoded data removed]",
      "text/plain": [
       "<Figure size 432x288 with 1 Axes>"
      ]
     },
     "metadata": {},
     "output_type": "display_data"
    },
    {
     "name": "stdout",
     "output_type": "stream",
     "text": [
      "naive score : 0.3157313689377627 -- model score: 0.313189378958852\n",
      "fitting on the 4th split\n",
      "21 out of 65927 is non zero\n",
      "[0]\tvalidation_0-rmse:0.576793\n",
      "Will train until validation_0-rmse hasn't improved in 50 rounds.\n",
      "[50]\tvalidation_0-rmse:0.333757\n",
      "[100]\tvalidation_0-rmse:0.31697\n",
      "[150]\tvalidation_0-rmse:0.315879\n",
      "[200]\tvalidation_0-rmse:0.316004\n",
      "Stopping. Best iteration:\n",
      "[152]\tvalidation_0-rmse:0.315792\n",
      "\n"
     ]
    },
    {
     "data": {
      "image/png": "[encoded data removed]",
      "text/plain": [
       "<Figure size 432x288 with 1 Axes>"
      ]
     },
     "metadata": {},
     "output_type": "display_data"
    },
    {
     "name": "stdout",
     "output_type": "stream",
     "text": [
      "naive score : 0.32071929120976317 -- model score: 0.3158181664134478\n",
      "fitting on the 5th split\n",
      "21 out of 65927 is non zero\n",
      "[0]\tvalidation_0-rmse:0.5781\n",
      "Will train until validation_0-rmse hasn't improved in 50 rounds.\n",
      "[50]\tvalidation_0-rmse:0.338728\n",
      "[100]\tvalidation_0-rmse:0.323751\n",
      "[150]\tvalidation_0-rmse:0.323912\n",
      "Stopping. Best iteration:\n",
      "[116]\tvalidation_0-rmse:0.323506\n",
      "\n"
     ]
    },
    {
     "data": {
      "image/png": "[encoded data removed]",
      "text/plain": [
       "<Figure size 432x288 with 1 Axes>"
      ]
     },
     "metadata": {},
     "output_type": "display_data"
    },
    {
     "name": "stdout",
     "output_type": "stream",
     "text": [
      "naive score : 0.3231174025051791 -- model score: 0.32352711115153715\n",
      "DONE! 5 folds\n",
      "----- 0.32002974046445914 0.006474257078122437\n",
      "----- naive score : 0.32369635506448663 -- model score: 0.32009525516905124\n"
     ]
    }
   ],
   "source": [
    "models = []\n",
    "train_meta = np.zeros(train.shape[0])\n",
    "test_meta = np.zeros(test.shape[0])\n",
    "scores = []\n",
    "for idx, (train_idx, valid_idx) in enumerate(skf):\n",
    "    X_train = train[features].iloc[train_idx,:]\n",
    "    y_train = train['target'][train_idx]\n",
    "    X_valid = train[features].iloc[valid_idx,:]\n",
    "    y_valid = train['target'][valid_idx]\n",
    "\n",
    "    print('fitting on the {}th split'.format(idx + 1))\n",
    "    print('{} out of {} is non zero'.format((y_valid != 0).sum(), y_valid.shape[0]))\n",
    "    reg = xgb.XGBRegressor(\n",
    "        max_depth=5,\n",
    "        learning_rate=0.03,\n",
    "        n_estimators=65535,\n",
    "        colsample_bytree=0.05,\n",
    "        random_state=1,\n",
    "        min_child_weight=7,\n",
    "        reg_alpha=0,\n",
    "        reg_lambda=1,\n",
    "        gamma=0,\n",
    "        n_jobs=4\n",
    "    )\n",
    "    reg.fit(\n",
    "        X_train, np.log1p(y_train),\n",
    "        eval_set=[(X_valid, np.log1p(y_valid))],\n",
    "        early_stopping_rounds=50,\n",
    "        verbose=50,\n",
    "        eval_metric='rmse'\n",
    "    )\n",
    "\n",
    "    xgb.plot_importance(reg, max_num_features=10)\n",
    "    plt.show()\n",
    "    plt.close()\n",
    "\n",
    "    models.append(reg)\n",
    "    valid_pred = reg.predict(X_valid, ntree_limit=reg.best_iteration)\n",
    "    train_meta[valid_idx] = valid_pred\n",
    "    model_score = np.sqrt(mean_squared_error(valid_pred, np.log1p(y_valid)))\n",
    "    naive_score = np.sqrt(mean_squared_error(np.zeros_like(y_valid), np.log1p(y_valid)))\n",
    "    print('naive score : {} -- model score: {}'.format(naive_score, model_score))\n",
    "    scores.append(model_score)\n",
    "    test_meta += reg.predict(test[features], ntree_limit=reg.best_iteration) / len(skf)\n",
    "    del X_train, y_train, X_valid, y_valid\n",
    "    gc.collect()\n",
    "\n",
    "\n",
    "print('DONE! {} folds'.format(len(skf)))\n",
    "print('-----', np.mean(scores), np.std(scores))\n",
    "model_score = np.sqrt(mean_squared_error(train_meta, np.log1p(train['target'])))\n",
    "naive_score = np.sqrt(mean_squared_error(np.zeros_like(train['target']), np.log1p(train['target'])))\n",
    "print('----- naive score : {} -- model score: {}'.format(naive_score, model_score))"
   ]
  },
  {
   "cell_type": "code",
   "execution_count": 96,
   "metadata": {},
   "outputs": [],
   "source": [
    "pickle.dump([models, train_meta, test_meta], open('../data/xgb_model_dump.pkl', 'wb'))"
   ]
  },
  {
   "cell_type": "code",
   "execution_count": 159,
   "metadata": {},
   "outputs": [],
   "source": [
    "xgb_models, xgb_train_meta, xgb_test_meta = pickle.load(open('../data/xgb_model_dump.pkl', 'rb'))"
   ]
  },
  {
   "cell_type": "code",
   "execution_count": 198,
   "metadata": {},
   "outputs": [],
   "source": [
    "test_pred = np.clip(xgb_test_meta, 0, xgb_test_meta.max())\n",
    "sub.PredictedLogRevenue = test_pred"
   ]
  },
  {
   "cell_type": "code",
   "execution_count": null,
   "metadata": {},
   "outputs": [],
   "source": [
    "sub.to_csv('xgb__sub.csv', index=False)"
   ]
  },
  {
   "cell_type": "code",
   "execution_count": 160,
   "metadata": {},
   "outputs": [
    {
     "data": {
      "text/plain": [
       "array([[1.       , 0.8339411],\n",
       "       [0.8339411, 1.       ]])"
      ]
     },
     "execution_count": 160,
     "metadata": {},
     "output_type": "execute_result"
    }
   ],
   "source": [
    "np.corrcoef(lgb_train_meta, xgb_train_meta)"
   ]
  },
  {
   "cell_type": "code",
   "execution_count": 161,
   "metadata": {},
   "outputs": [
    {
     "name": "stdout",
     "output_type": "stream",
     "text": [
      "0.32009438804456963\n"
     ]
    }
   ],
   "source": [
    "xgb_pred = np.clip(xgb_train_meta, 0, xgb_train_meta.max())\n",
    "print(np.sqrt(mean_squared_error(xgb_pred, np.log1p(train['target']))))"
   ]
  },
  {
   "cell_type": "code",
   "execution_count": 162,
   "metadata": {},
   "outputs": [],
   "source": [
    "from sklearn.linear_model import LinearRegression"
   ]
  },
  {
   "cell_type": "code",
   "execution_count": 186,
   "metadata": {},
   "outputs": [],
   "source": [
    "# d = np.hstack([lgb_train_meta.reshape(1,-1).T, xgb_train_meta.reshape(1,-1).T])\n",
    "d = np.hstack([lgb_pred.reshape(1,-1).T, xgb_pred.reshape(1,-1).T])"
   ]
  },
  {
   "cell_type": "code",
   "execution_count": 187,
   "metadata": {},
   "outputs": [],
   "source": [
    "lr = LinearRegression(fit_intercept=False).fit(d, np.log1p(train['target']))"
   ]
  },
  {
   "cell_type": "code",
   "execution_count": 178,
   "metadata": {},
   "outputs": [
    {
     "data": {
      "text/plain": [
       "array([ 1.3758264 , -0.15599645])"
      ]
     },
     "execution_count": 178,
     "metadata": {},
     "output_type": "execute_result"
    }
   ],
   "source": [
    "lr.coef_"
   ]
  },
  {
   "cell_type": "code",
   "execution_count": 188,
   "metadata": {},
   "outputs": [
    {
     "data": {
      "text/plain": [
       "array([ 1.38934813, -0.16913887])"
      ]
     },
     "execution_count": 188,
     "metadata": {},
     "output_type": "execute_result"
    }
   ],
   "source": [
    "lr.coef_"
   ]
  },
  {
   "cell_type": "code",
   "execution_count": 189,
   "metadata": {},
   "outputs": [],
   "source": [
    "# train_blend = 1.3758264 * lgb_train_meta - 0.15599645 * xgb_train_meta\n",
    "train_blend = 1.38934813 * lgb_pred - 0.16913887 * xgb_pred\n",
    "train_blend = np.clip(train_blend, a_min=0, a_max = train_blend.max())"
   ]
  },
  {
   "cell_type": "code",
   "execution_count": 185,
   "metadata": {},
   "outputs": [
    {
     "name": "stdout",
     "output_type": "stream",
     "text": [
      "0.3177714367634254\n"
     ]
    }
   ],
   "source": [
    "print(np.sqrt(mean_squared_error(train_blend, np.log1p(train['target']))))"
   ]
  },
  {
   "cell_type": "code",
   "execution_count": 190,
   "metadata": {},
   "outputs": [
    {
     "name": "stdout",
     "output_type": "stream",
     "text": [
      "0.31777035064333703\n"
     ]
    }
   ],
   "source": [
    "print(np.sqrt(mean_squared_error(train_blend, np.log1p(train['target']))))"
   ]
  },
  {
   "cell_type": "code",
   "execution_count": 193,
   "metadata": {},
   "outputs": [],
   "source": [
    "lgb_test_pred = np.clip(lgb_test_meta, 0, lgb_test_meta.max())\n",
    "xgb_test_pred = np.clip(xgb_test_meta, 0, xgb_test_meta.max())"
   ]
  },
  {
   "cell_type": "code",
   "execution_count": 194,
   "metadata": {},
   "outputs": [],
   "source": [
    "test_blend = 1.38934813 * lgb_test_pred - 0.16913887 * xgb_test_pred\n",
    "test_blend = np.clip(test_blend, a_min=0, a_max = test_blend.max())"
   ]
  },
  {
   "cell_type": "code",
   "execution_count": 195,
   "metadata": {},
   "outputs": [],
   "source": [
    "sub.PredictedLogRevenue = test_blend"
   ]
  },
  {
   "cell_type": "code",
   "execution_count": 196,
   "metadata": {},
   "outputs": [
    {
     "data": {
      "text/html": [
       "<div>\n",
       "<style scoped>\n",
       "    .dataframe tbody tr th:only-of-type {\n",
       "        vertical-align: middle;\n",
       "    }\n",
       "\n",
       "    .dataframe tbody tr th {\n",
       "        vertical-align: top;\n",
       "    }\n",
       "\n",
       "    .dataframe thead th {\n",
       "        text-align: right;\n",
       "    }\n",
       "</style>\n",
       "<table border=\"1\" class=\"dataframe\">\n",
       "  <thead>\n",
       "    <tr style=\"text-align: right;\">\n",
       "      <th></th>\n",
       "      <th>fullVisitorId</th>\n",
       "      <th>PredictedLogRevenue</th>\n",
       "    </tr>\n",
       "  </thead>\n",
       "  <tbody>\n",
       "    <tr>\n",
       "      <th>0</th>\n",
       "      <td>0000018966949534117</td>\n",
       "      <td>0.002516</td>\n",
       "    </tr>\n",
       "    <tr>\n",
       "      <th>1</th>\n",
       "      <td>0000039738481224681</td>\n",
       "      <td>0.002578</td>\n",
       "    </tr>\n",
       "    <tr>\n",
       "      <th>2</th>\n",
       "      <td>0000073585230191399</td>\n",
       "      <td>0.002583</td>\n",
       "    </tr>\n",
       "    <tr>\n",
       "      <th>3</th>\n",
       "      <td>0000087588448856385</td>\n",
       "      <td>0.002606</td>\n",
       "    </tr>\n",
       "    <tr>\n",
       "      <th>4</th>\n",
       "      <td>0000149787903119437</td>\n",
       "      <td>0.002606</td>\n",
       "    </tr>\n",
       "  </tbody>\n",
       "</table>\n",
       "</div>"
      ],
      "text/plain": [
       "         fullVisitorId  PredictedLogRevenue\n",
       "0  0000018966949534117             0.002516\n",
       "1  0000039738481224681             0.002578\n",
       "2  0000073585230191399             0.002583\n",
       "3  0000087588448856385             0.002606\n",
       "4  0000149787903119437             0.002606"
      ]
     },
     "execution_count": 196,
     "metadata": {},
     "output_type": "execute_result"
    }
   ],
   "source": [
    "sub.head()"
   ]
  },
  {
   "cell_type": "code",
   "execution_count": 197,
   "metadata": {},
   "outputs": [],
   "source": [
    "sub.to_csv('lgb_xgb_blend_sub.csv', index=False)"
   ]
  }
 ],
 "metadata": {
  "kernelspec": {
   "display_name": "Python 3",
   "language": "python",
   "name": "python3"
  },
  "language_info": {
   "codemirror_mode": {
    "name": "ipython",
    "version": 3
   },
   "file_extension": ".py",
   "mimetype": "text/x-python",
   "name": "python",
   "nbconvert_exporter": "python",
   "pygments_lexer": "ipython3",
   "version": "3.6.5"
  }
 },
 "nbformat": 4,
 "nbformat_minor": 2
}
